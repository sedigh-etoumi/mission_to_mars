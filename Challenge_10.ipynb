{
 "cells": [
  {
   "cell_type": "code",
   "execution_count": 68,
   "id": "e7b0155b",
   "metadata": {},
   "outputs": [],
   "source": [
    "from bs4 import BeautifulSoup as soup\n",
    "import pandas as pd\n",
    "from splinter import Browser \n",
    "from webdriver_manager.chrome import ChromeDriverManager\n",
    "from selenium import webdriver"
   ]
  },
  {
   "cell_type": "code",
   "execution_count": 69,
   "id": "279e039f",
   "metadata": {},
   "outputs": [],
   "source": [
    "# Set the executable path and initialize Splinter\n",
    "executable_path = {'executable_path': ChromeDriverManager().install()}\n",
    "browser = Browser('chrome', **executable_path, headless=False)\n",
    "\n",
    "# driver = webdriver.Chrome(executable_path=ChromeDriverManager().install())"
   ]
  },
  {
   "cell_type": "code",
   "execution_count": 106,
   "id": "7ef26902",
   "metadata": {},
   "outputs": [],
   "source": [
    "# 1. Use browser to visit the URL \n",
    "url = 'https://marshemispheres.com/'\n",
    "browser.visit(url)\n",
    "\n",
    "# driver.get(\"https://marshemispheres.com/\")\n",
    "\n",
    "#driver = browser.find_by_css(\"a.product-item img\").click()\n",
    "# driver.find_element_by_link_text('Sample').click()\n"
   ]
  },
  {
   "cell_type": "code",
   "execution_count": 107,
   "id": "2827cdf0",
   "metadata": {},
   "outputs": [
    {
     "name": "stdout",
     "output_type": "stream",
     "text": [
      "Cerberus Hemisphere Enhanced\n",
      "https://marshemispheres.com/images/full.jpg\n",
      "Cerberus Hemisphere Enhanced\n",
      "https://marshemispheres.com/images/schiaparelli_enhanced-full.jpg\n",
      "Cerberus Hemisphere Enhanced\n",
      "https://marshemispheres.com/images/syrtis_major_enhanced-full.jpg\n",
      "Cerberus Hemisphere Enhanced\n",
      "https://marshemispheres.com/images/valles_marineris_enhanced-full.jpg\n"
     ]
    }
   ],
   "source": [
    "# 2. Create a list to hold the images and titles.\n",
    "hemisphere_image_urls = []\n",
    "hemispheres = {}\n",
    "\n",
    "html = browser.html\n",
    "\n",
    "title_soup = soup(html, 'html.parser')\n",
    "head = title_soup.find('div', class_='item')\n",
    "titles = head.find_all('a', class_='itemLink product-item')\n",
    "#print(titles)\n",
    "\n",
    "for i in range(4):\n",
    "    browser.find_by_css(\"a.product-item img\")[i].click()\n",
    "    elem=browser.links.find_by_text('Sample')\n",
    "    img_url = elem['href']\n",
    "    #hemispheres.key=img_url\n",
    "    title_soup = soup(html, 'html.parser')\n",
    "    title = title_soup.find('div', class_='item')\n",
    "    title_link = title.find('h3').text\n",
    "    #hemispheres.value = title_link\n",
    "    print(title_link)\n",
    "    print(img_url)\n",
    "    browser.back()\n",
    "#print(hemispheres)\n",
    "\n",
    "# img_url_rel = img_url_rel.find('img')\n",
    "#element = browser.find_element_by_link_text('Sample').click()\n",
    "#img_url = elementent['href']\n",
    "#img_url\n"
   ]
  },
  {
   "cell_type": "code",
   "execution_count": null,
   "id": "3453c819",
   "metadata": {},
   "outputs": [],
   "source": []
  }
 ],
 "metadata": {
  "kernelspec": {
   "display_name": "Python 3 (ipykernel)",
   "language": "python",
   "name": "python3"
  },
  "language_info": {
   "codemirror_mode": {
    "name": "ipython",
    "version": 3
   },
   "file_extension": ".py",
   "mimetype": "text/x-python",
   "name": "python",
   "nbconvert_exporter": "python",
   "pygments_lexer": "ipython3",
   "version": "3.9.12"
  }
 },
 "nbformat": 4,
 "nbformat_minor": 5
}
